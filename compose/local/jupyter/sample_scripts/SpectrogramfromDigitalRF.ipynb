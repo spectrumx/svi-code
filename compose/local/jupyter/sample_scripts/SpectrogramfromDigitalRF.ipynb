{
 "cells": [
  {
   "cell_type": "code",
   "execution_count": null,
   "metadata": {
    "vscode": {
     "languageId": "plaintext"
    }
   },
   "outputs": [],
   "source": [
    "from digital_rf import DigitalRFReader\n",
    "import h5py\n",
    "import numpy as np\n",
    "import matplotlib.pyplot as plt\n",
    "from scipy.signal.windows import gaussian\n",
    "from scipy.signal import ShortTimeFFT\n",
    "from drf_plot import specgram_plot # make sure drf_plot.py is in the same folder as this code\n",
    "\n",
    "def make_digitalrf_spectrogram_custom(data_dir, duration=1):\n",
    "    reader = DigitalRFReader(data_dir)\n",
    "    channels = reader.get_channels()\n",
    "\n",
    "    for channel in channels:\n",
    "        print(f\"Processing channel: {channel}\")\n",
    "        start_sample, end_sample = reader.get_bounds(channel)\n",
    "\n",
    "        with h5py.File(f\"{data_dir}/{channel}/drf_properties.h5\", \"r\") as f:\n",
    "            sample_rate = f.attrs[\"sample_rate_numerator\"] / f.attrs[\"sample_rate_denominator\"]\n",
    "\n",
    "        num_samples = int(sample_rate * duration)\n",
    "        rf_data = reader.read_vector(start_sample, num_samples, channel)\n",
    "\n",
    "        # Compute spectrogram\n",
    "        window = gaussian(1000, std=100, sym=True)\n",
    "        fft_size = 1024\n",
    "        stfft = ShortTimeFFT(window, hop=500, fs=sample_rate, mfft=fft_size, fft_mode=\"centered\")\n",
    "        spectrogram = stfft.spectrogram(rf_data)\n",
    "\n",
    "        # Convert to dB\n",
    "        spectrogram_db = 10.0 * np.log10(spectrogram + 1e-12)\n",
    "\n",
    "        # Auto compute zscale using logic from drf_plot.py\n",
    "        Pss_ma = np.ma.masked_invalid(spectrogram_db)\n",
    "        zscale_low = 30\n",
    "        zscale_high = np.median(Pss_ma.max()) + 10.0\n",
    "        zscale = (zscale_low, zscale_high)\n",
    "        print(f\"zscale low: {zscale_low}\")\n",
    "        print(f\"zscale high: {zscale_high}\")\n",
    "        \n",
    "\n",
    "        # Create extent for plotting\n",
    "        extent = stfft.extent(num_samples)\n",
    "\n",
    "        specgram_plot(\n",
    "            data=spectrogram,\n",
    "            extent=extent,\n",
    "            log_scale=True,\n",
    "            zscale=zscale,\n",
    "            title=f\"Spectrogram - {channel}\"\n",
    "        )\n",
    "\n",
    "# Example usage: upload the entire westford folder under /home/jovyan/work directory\n",
    "make_digitalrf_spectrogram_custom(\"/home/jovyan/work/westford-vpol 2\", duration=2)\n"
   ]
  }
 ],
 "metadata": {
  "language_info": {
   "name": "python"
  }
 },
 "nbformat": 4,
 "nbformat_minor": 2
}
