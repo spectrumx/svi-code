{
 "cells": [
  {
   "cell_type": "code",
   "execution_count": null,
   "metadata": {
    "vscode": {
     "languageId": "plaintext"
    }
   },
   "outputs": [],
   "source": [
    "from spectrumx.client import Client\n",
    "from pathlib import Path\n",
    "\n",
    "sds = Client(\n",
    "    host=\"sds.crc.nd.edu\",\n",
    "    env_config={\"SDS_SECRET_TOKEN\": \"\"}\n",
    ")\n",
    "\n",
    "sds.dry_run = False\n",
    "\n",
    "sds.authenticate()"
   ]
  }
 ],
 "metadata": {
  "language_info": {
   "name": "python"
  }
 },
 "nbformat": 4,
 "nbformat_minor": 2
}
